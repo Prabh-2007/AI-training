{
 "cells": [
  {
   "cell_type": "code",
   "execution_count": 1,
   "metadata": {},
   "outputs": [
    {
     "name": "stdout",
     "output_type": "stream",
     "text": [
      "for remove the wrong words\n",
      "for writing\n"
     ]
    }
   ],
   "source": [
    "#Inheritance:\n",
    "\n",
    "\n",
    "class Stationary():\n",
    "      def things(self):\n",
    "          print(\"for the purpose of writing\") \n",
    "class Eraser(Stationary):\n",
    "      def things(self):\n",
    "           print(\"for remove the wrong words\")\n",
    "class Pen(Stationary):\n",
    "      def things(self):\n",
    "           print(\"for writing\") \n",
    "x1=Stationary ()\n",
    "y1=Eraser()\n",
    "z1=Pen()\n",
    "y1.things()\n",
    "z1.things()"
   ]
  },
  {
   "cell_type": "code",
   "execution_count": 7,
   "metadata": {},
   "outputs": [
    {
     "name": "stdout",
     "output_type": "stream",
     "text": [
      "the name is kabil and the age is19\n"
     ]
    }
   ],
   "source": [
    "#Encapsulation\n",
    "\n",
    "\n",
    "class person():\n",
    "    def __init__(abc,name,age):\n",
    "        abc.name = \"kabil\"\n",
    "        abc.__age = age\n",
    "    def display(abc):\n",
    "        print(f\"the name is {abc.name} and the age is{abc.__age}\")\n",
    "    def setter(abc,new_age):\n",
    "        if new_age > 0:\n",
    "            abc._age = new_age\n",
    "    def getter(abc):\n",
    "        return abc.__age\n",
    "p1 = person(\"godson\",19)\n",
    "p1.getter()\n",
    "p1.setter(21)\n",
    "p1.getter()\n",
    "p1.display()"
   ]
  },
  {
   "cell_type": "code",
   "execution_count": 8,
   "metadata": {},
   "outputs": [
    {
     "name": "stdout",
     "output_type": "stream",
     "text": [
      "bird is flying\n",
      "flight flies\n",
      "superman flying using super power\n"
     ]
    }
   ],
   "source": [
    "#Polymorphism\n",
    "\n",
    "class bird():\n",
    "    def fly(self):\n",
    "        print(\"bird is flying\")\n",
    "class flight():\n",
    "    def fly(self):\n",
    "        print(\"flight flies\")\n",
    "class superman():\n",
    "    def fly(self):\n",
    "        print(\"superman flying using super power\")\n",
    "b1 = [bird(),flight(),superman()]\n",
    "for i in b1:\n",
    "    i.fly()"
   ]
  },
  {
   "cell_type": "code",
   "execution_count": 10,
   "metadata": {},
   "outputs": [
    {
     "name": "stdout",
     "output_type": "stream",
     "text": [
      "washing the fruits\n",
      "cut the fruits using knife\n",
      "grind the fruits\n",
      "add the 5 tspoon sugar\n",
      "juice ready\n"
     ]
    }
   ],
   "source": [
    "#Abstraction\n",
    "\n",
    "class juicemaker():\n",
    "    def make_juice(self):\n",
    "        self.__wash()\n",
    "        self.__cutting_the_fruits()\n",
    "        self.__blend()\n",
    "        self.__adding_sugar()\n",
    "        self.__serve()\n",
    "    def __wash(self):\n",
    "        print(\"washing the fruits\")\n",
    "    def __cutting_the_fruits(self):\n",
    "        print(\"cut the fruits using knife\")\n",
    "    def __blend(self):\n",
    "        print(\"grind the fruits\")\n",
    "    def __adding_sugar(self):\n",
    "        print(\"add the 5 tspoon sugar\")\n",
    "    def __serve(self):\n",
    "        print(\"juice ready\")\n",
    "jm = juicemaker()\n",
    "jm.make_juice()\n",
    "    \n",
    "       "
   ]
  }
 ],
 "metadata": {
  "kernelspec": {
   "display_name": "Python 3",
   "language": "python",
   "name": "python3"
  },
  "language_info": {
   "codemirror_mode": {
    "name": "ipython",
    "version": 3
   },
   "file_extension": ".py",
   "mimetype": "text/x-python",
   "name": "python",
   "nbconvert_exporter": "python",
   "pygments_lexer": "ipython3",
   "version": "3.13.2"
  }
 },
 "nbformat": 4,
 "nbformat_minor": 2
}
